{
 "cells": [
  {
   "cell_type": "code",
   "execution_count": 1,
   "metadata": {},
   "outputs": [],
   "source": [
    "# Testing gauges and derived gauges"
   ]
  },
  {
   "cell_type": "code",
   "execution_count": 2,
   "metadata": {
    "scrolled": true
   },
   "outputs": [],
   "source": [
    "%load_ext autoreload\n",
    "%autoreload 2"
   ]
  },
  {
   "cell_type": "code",
   "execution_count": 3,
   "metadata": {},
   "outputs": [
    {
     "data": {
      "text/plain": [
       "LongGauge(descriptor.name=\"name\", points=OrderedDict())"
      ]
     },
     "execution_count": 3,
     "metadata": {},
     "output_type": "execute_result"
    }
   ],
   "source": [
    "from opencensus.metrics.export.gauge import LongGauge\n",
    "from opencensus.metrics.label_key import LabelKey\n",
    "\n",
    "\n",
    "lg = LongGauge(\"name\", \"description\", \"unit\",\n",
    "               [LabelKey(\"lk1\", \"first label key\"), LabelKey(\"lk2\", \"second label key\")])\n",
    "lg"
   ]
  },
  {
   "cell_type": "code",
   "execution_count": 4,
   "metadata": {},
   "outputs": [
    {
     "data": {
      "text/plain": [
       "True"
      ]
     },
     "execution_count": 4,
     "metadata": {},
     "output_type": "execute_result"
    }
   ],
   "source": [
    "# no points, null metric\n",
    "from datetime import datetime as dt\n",
    "\n",
    "lg.get_metric(dt.now()) is None"
   ]
  },
  {
   "cell_type": "code",
   "execution_count": 5,
   "metadata": {},
   "outputs": [
    {
     "data": {
      "text/plain": [
       "(GaugePointLong(0), GaugePointLong(0))"
      ]
     },
     "execution_count": 5,
     "metadata": {},
     "output_type": "execute_result"
    }
   ],
   "source": [
    "# we get a different point for each set of label values\n",
    "lp_en = lg.get_or_create_time_series([\"one\", \"two\"])\n",
    "lp_es = lg.get_or_create_time_series([\"uno\", \"dos\"])\n",
    "\n",
    "lp_en, lp_es"
   ]
  },
  {
   "cell_type": "code",
   "execution_count": 6,
   "metadata": {},
   "outputs": [
    {
     "data": {
      "text/plain": [
       "Metric((lk1=\"one\", lk2=\"two\", [0]), (lk1=\"uno\", lk2=\"dos\", [0]), descriptor.name=\"name\")"
      ]
     },
     "execution_count": 6,
     "metadata": {},
     "output_type": "execute_result"
    }
   ],
   "source": [
    "# check that we created default (0-value) points and can now get a metric\n",
    "lg.get_metric(dt.now())"
   ]
  },
  {
   "cell_type": "code",
   "execution_count": 7,
   "metadata": {},
   "outputs": [],
   "source": [
    "# points are cached on the gauge, one per set of label values\n",
    "assert lp_en == lg.get_or_create_time_series([\"one\", \"two\"])"
   ]
  },
  {
   "cell_type": "code",
   "execution_count": 8,
   "metadata": {},
   "outputs": [
    {
     "ename": "ValueError",
     "evalue": "GaugePointLong only supports integer types",
     "output_type": "error",
     "traceback": [
      "\u001b[0;31m---------------------------------------------------------------------------\u001b[0m",
      "\u001b[0;31mValueError\u001b[0m                                Traceback (most recent call last)",
      "\u001b[0;32m<ipython-input-8-f7e969a2096d>\u001b[0m in \u001b[0;36m<module>\u001b[0;34m\u001b[0m\n\u001b[1;32m      1\u001b[0m \u001b[0;31m# check that we can't add a double val to a long gauge\u001b[0m\u001b[0;34m\u001b[0m\u001b[0;34m\u001b[0m\u001b[0m\n\u001b[0;32m----> 2\u001b[0;31m \u001b[0mlp_en\u001b[0m\u001b[0;34m.\u001b[0m\u001b[0madd\u001b[0m\u001b[0;34m(\u001b[0m\u001b[0;36m10.0\u001b[0m\u001b[0;34m)\u001b[0m\u001b[0;34m\u001b[0m\u001b[0m\n\u001b[0m",
      "\u001b[0;32m~/src/opencensus-python/opencensus/metrics/export/gauge.py\u001b[0m in \u001b[0;36madd\u001b[0;34m(self, val)\u001b[0m\n\u001b[1;32m     83\u001b[0m         \"\"\"\n\u001b[1;32m     84\u001b[0m         \u001b[0;32mif\u001b[0m \u001b[0;32mnot\u001b[0m \u001b[0misinstance\u001b[0m\u001b[0;34m(\u001b[0m\u001b[0mval\u001b[0m\u001b[0;34m,\u001b[0m \u001b[0msix\u001b[0m\u001b[0;34m.\u001b[0m\u001b[0minteger_types\u001b[0m\u001b[0;34m)\u001b[0m\u001b[0;34m:\u001b[0m\u001b[0;34m\u001b[0m\u001b[0m\n\u001b[0;32m---> 85\u001b[0;31m             \u001b[0;32mraise\u001b[0m \u001b[0mValueError\u001b[0m\u001b[0;34m(\u001b[0m\u001b[0;34m\"GaugePointLong only supports integer types\"\u001b[0m\u001b[0;34m)\u001b[0m\u001b[0;34m\u001b[0m\u001b[0m\n\u001b[0m\u001b[1;32m     86\u001b[0m         \u001b[0;32mwith\u001b[0m \u001b[0mself\u001b[0m\u001b[0;34m.\u001b[0m\u001b[0m_value_lock\u001b[0m\u001b[0;34m:\u001b[0m\u001b[0;34m\u001b[0m\u001b[0m\n\u001b[1;32m     87\u001b[0m             \u001b[0mself\u001b[0m\u001b[0;34m.\u001b[0m\u001b[0mvalue\u001b[0m \u001b[0;34m+=\u001b[0m \u001b[0mval\u001b[0m\u001b[0;34m\u001b[0m\u001b[0m\n",
      "\u001b[0;31mValueError\u001b[0m: GaugePointLong only supports integer types"
     ]
    }
   ],
   "source": [
    "# check that we can't add a double val to a long gauge\n",
    "lp_en.add(10.0)"
   ]
  },
  {
   "cell_type": "code",
   "execution_count": 9,
   "metadata": {},
   "outputs": [
    {
     "data": {
      "text/plain": [
       "(GaugePointLong(10), GaugePointLong(0))"
      ]
     },
     "execution_count": 9,
     "metadata": {},
     "output_type": "execute_result"
    }
   ],
   "source": [
    "lp_en.add(10)\n",
    "lp_en, lp_es"
   ]
  },
  {
   "cell_type": "code",
   "execution_count": 10,
   "metadata": {},
   "outputs": [
    {
     "data": {
      "text/plain": [
       "(GaugePointLong(20), GaugePointLong(-1))"
      ]
     },
     "execution_count": 10,
     "metadata": {},
     "output_type": "execute_result"
    }
   ],
   "source": [
    "lp_en.add(10)\n",
    "lp_es.set(1)\n",
    "lp_es.set(2)\n",
    "lp_es.set(-1)\n",
    "lp_en, lp_es"
   ]
  },
  {
   "cell_type": "code",
   "execution_count": 11,
   "metadata": {},
   "outputs": [
    {
     "data": {
      "text/plain": [
       "Metric((lk1=\"one\", lk2=\"two\", [20]), (lk1=\"uno\", lk2=\"dos\", [-1]), descriptor.name=\"name\")"
      ]
     },
     "execution_count": 11,
     "metadata": {},
     "output_type": "execute_result"
    }
   ],
   "source": [
    "met = lg.get_metric(dt.now())\n",
    "met"
   ]
  },
  {
   "cell_type": "code",
   "execution_count": 12,
   "metadata": {},
   "outputs": [
    {
     "data": {
      "text/plain": [
       "TimeSeries([20], label_values=('one', 'two'), start_timestamp=2019-02-14 10:27:12.696080)"
      ]
     },
     "execution_count": 12,
     "metadata": {},
     "output_type": "execute_result"
    }
   ],
   "source": [
    "met.time_series[0]"
   ]
  },
  {
   "cell_type": "code",
   "execution_count": 13,
   "metadata": {},
   "outputs": [
    {
     "data": {
      "text/plain": [
       "ValueLong(20)"
      ]
     },
     "execution_count": 13,
     "metadata": {},
     "output_type": "execute_result"
    }
   ],
   "source": [
    "met.time_series[0].points[0].value"
   ]
  },
  {
   "cell_type": "code",
   "execution_count": null,
   "metadata": {},
   "outputs": [],
   "source": []
  },
  {
   "cell_type": "code",
   "execution_count": 14,
   "metadata": {},
   "outputs": [
    {
     "data": {
      "text/plain": [
       "DoubleGauge(descriptor.name=\"name\", points=OrderedDict())"
      ]
     },
     "execution_count": 14,
     "metadata": {},
     "output_type": "execute_result"
    }
   ],
   "source": [
    "from opencensus.metrics.export.gauge import DoubleGauge\n",
    "\n",
    "dg = DoubleGauge(\"name\", \"description\", \"unit\",\n",
    "                 [LabelKey(\"lk1\", \"first label key\"), LabelKey(\"lk2\", \"second label key\")])\n",
    "dg"
   ]
  },
  {
   "cell_type": "code",
   "execution_count": 15,
   "metadata": {},
   "outputs": [
    {
     "data": {
      "text/plain": [
       "GaugePointDouble(2.5)"
      ]
     },
     "execution_count": 15,
     "metadata": {},
     "output_type": "execute_result"
    }
   ],
   "source": [
    "dp1 = dg.get_or_create_time_series([\"yi\", \"er\"])\n",
    "dp1.add(2.5)\n",
    "dp1"
   ]
  },
  {
   "cell_type": "code",
   "execution_count": 16,
   "metadata": {},
   "outputs": [
    {
     "data": {
      "text/plain": [
       "GaugePointDouble(5.0)"
      ]
     },
     "execution_count": 16,
     "metadata": {},
     "output_type": "execute_result"
    }
   ],
   "source": [
    "# check that we get the same point\n",
    "dp2 = dg.get_or_create_time_series([\"yi\", \"er\"])\n",
    "dp2.add(2.5)\n",
    "assert dp1 == dp2\n",
    "dp2"
   ]
  },
  {
   "cell_type": "code",
   "execution_count": 17,
   "metadata": {},
   "outputs": [
    {
     "data": {
      "text/plain": [
       "GaugePointLong(0)"
      ]
     },
     "execution_count": 17,
     "metadata": {},
     "output_type": "execute_result"
    }
   ],
   "source": [
    "default_point = lg.get_or_create_default_time_series()\n",
    "default_point"
   ]
  },
  {
   "cell_type": "code",
   "execution_count": 18,
   "metadata": {},
   "outputs": [],
   "source": [
    "default_point.add(100)"
   ]
  },
  {
   "cell_type": "code",
   "execution_count": 19,
   "metadata": {},
   "outputs": [
    {
     "data": {
      "text/plain": [
       "100"
      ]
     },
     "execution_count": 19,
     "metadata": {},
     "output_type": "execute_result"
    }
   ],
   "source": [
    "lg.get_or_create_default_time_series().value"
   ]
  },
  {
   "cell_type": "code",
   "execution_count": 20,
   "metadata": {},
   "outputs": [
    {
     "data": {
      "text/plain": [
       "Metric((lk1=\"one\", lk2=\"two\", [20]), (lk1=\"uno\", lk2=\"dos\", [-1]), (lk1=\"None\", lk2=\"None\", [100]), descriptor.name=\"name\")"
      ]
     },
     "execution_count": 20,
     "metadata": {},
     "output_type": "execute_result"
    }
   ],
   "source": [
    "# check that the default ts shows up\n",
    "lg.get_metric(dt.now())"
   ]
  },
  {
   "cell_type": "code",
   "execution_count": 21,
   "metadata": {},
   "outputs": [
    {
     "data": {
      "text/plain": [
       "Metric((lk1=\"one\", lk2=\"two\", [20]), (lk1=\"uno\", lk2=\"dos\", [-1]), descriptor.name=\"name\")"
      ]
     },
     "execution_count": 21,
     "metadata": {},
     "output_type": "execute_result"
    }
   ],
   "source": [
    "# and that it doesn't show up after we remove it\n",
    "lg.remove_default_time_series()\n",
    "lg.get_metric(dt.now())"
   ]
  },
  {
   "cell_type": "code",
   "execution_count": 22,
   "metadata": {},
   "outputs": [
    {
     "data": {
      "text/plain": [
       "Metric((lk=\"None\", [0]), descriptor.name=\"name\")"
      ]
     },
     "execution_count": 22,
     "metadata": {},
     "output_type": "execute_result"
    }
   ],
   "source": [
    "# and that metrics work if there's only the default\n",
    "defg = LongGauge(\"name\", \"description\", \"unit\", [LabelKey(\"lk\", \"only label key\")])\n",
    "defg.get_or_create_default_time_series()\n",
    "defg.get_metric(dt.now())"
   ]
  },
  {
   "cell_type": "code",
   "execution_count": null,
   "metadata": {},
   "outputs": [],
   "source": []
  },
  {
   "cell_type": "code",
   "execution_count": 23,
   "metadata": {},
   "outputs": [
    {
     "data": {
      "text/plain": [
       "[0.827, 0.515, -0.994, 0.312, 0.734, -0.923, -0.822, 0.86, 0.107, -0.949]"
      ]
     },
     "execution_count": 23,
     "metadata": {},
     "output_type": "execute_result"
    }
   ],
   "source": [
    "from datetime import datetime as dt\n",
    "import math\n",
    "\n",
    "# make some floats\n",
    "def wobbler():\n",
    "    return round(math.cos(dt.now().microsecond), 3)\n",
    "\n",
    "[wobbler() for ii in range(10)]"
   ]
  },
  {
   "cell_type": "code",
   "execution_count": 24,
   "metadata": {},
   "outputs": [
    {
     "data": {
      "text/plain": [
       "[1, 2, 3, 5, 8, 13, 21, 34, 55, 89]"
      ]
     },
     "execution_count": 24,
     "metadata": {},
     "output_type": "execute_result"
    }
   ],
   "source": [
    "# make some ints\n",
    "def fibber(nums=[0, 1]):\n",
    "    nums[:] = [nums[1], sum(nums)]\n",
    "    return nums[1]    \n",
    "\n",
    "[fibber() for ii in range(10)]"
   ]
  },
  {
   "cell_type": "code",
   "execution_count": 25,
   "metadata": {},
   "outputs": [
    {
     "ename": "AttributeError",
     "evalue": "'function' object has no attribute 'im_func'",
     "output_type": "error",
     "traceback": [
      "\u001b[0;31m---------------------------------------------------------------------------\u001b[0m",
      "\u001b[0;31mAttributeError\u001b[0m                            Traceback (most recent call last)",
      "\u001b[0;32m<ipython-input-25-9c92efbdebcb>\u001b[0m in \u001b[0;36m<module>\u001b[0;34m\u001b[0m\n\u001b[0;32m----> 1\u001b[0;31m \u001b[0mfibber\u001b[0m\u001b[0;34m.\u001b[0m\u001b[0mim_func\u001b[0m\u001b[0;34m\u001b[0m\u001b[0m\n\u001b[0m",
      "\u001b[0;31mAttributeError\u001b[0m: 'function' object has no attribute 'im_func'"
     ]
    }
   ],
   "source": [
    "fibber.im_func"
   ]
  },
  {
   "cell_type": "code",
   "execution_count": 26,
   "metadata": {},
   "outputs": [
    {
     "data": {
      "text/plain": [
       "(144, -0.15)"
      ]
     },
     "execution_count": 26,
     "metadata": {},
     "output_type": "execute_result"
    }
   ],
   "source": [
    "from opencensus.metrics.export.gauge import GaugePointLong\n",
    "from opencensus.metrics.export.gauge import GaugePointDouble\n",
    "from opencensus.metrics.export.gauge import DerivedGaugePoint\n",
    "\n",
    "dgpl = DerivedGaugePoint(fibber, GaugePointLong())\n",
    "dgpd = DerivedGaugePoint(wobbler, GaugePointDouble())\n",
    "\n",
    "(dgpl.get_value(), dgpd.get_value())"
   ]
  },
  {
   "cell_type": "code",
   "execution_count": 27,
   "metadata": {},
   "outputs": [
    {
     "data": {
      "text/plain": [
       "<__main__.FibHolder at 0x109b5eb70>"
      ]
     },
     "execution_count": 27,
     "metadata": {},
     "output_type": "execute_result"
    }
   ],
   "source": [
    "class FibHolder(object):\n",
    "    def __init__(self):\n",
    "        self.nums = [0, 1]\n",
    "        \n",
    "    def get_num(self):\n",
    "        self.nums = [self.nums[1], sum(self.nums)]\n",
    "        return self.nums[1]\n",
    "    \n",
    "fh = FibHolder()\n",
    "fh.get_num.__self__"
   ]
  },
  {
   "cell_type": "code",
   "execution_count": 28,
   "metadata": {},
   "outputs": [],
   "source": [
    "import weakref\n",
    "from functools import wraps\n",
    "\n",
    "# this snippet comes from the o'reilly python cookbook\n",
    "# https://www.oreilly.com/library/view/python-cookbook/0596001673/ch05s15.html\n",
    "class _weak_callable:\n",
    "    def __init__(self, obj, func):\n",
    "        self.__self__ = obj\n",
    "        self.__func__ = func\n",
    "\n",
    "    def __call__(self, *args, **kws):\n",
    "        if self.__self__ is None:\n",
    "            return self.__func__(*args, **kws)\n",
    "        else:\n",
    "            return self.__func__(self.__self__, *args, **kws)\n",
    "\n",
    "class WeakMethod:\n",
    "    def __init__(self, fn):\n",
    "        try:\n",
    "            self._obj = weakref.ref(fn.__self__)\n",
    "            self._meth = fn.__func__\n",
    "        except AttributeError:\n",
    "            # It's not a bound method\n",
    "            self._obj = None\n",
    "            self._meth = fn\n",
    "            \n",
    "    def _getobj(self):\n",
    "        if self._obj is None:\n",
    "            return None\n",
    "        return self._obj()\n",
    "    \n",
    "    def _dead(self):\n",
    "        return self._obj is not None and self._obj() is None\n",
    "\n",
    "    def __call__(self):\n",
    "        if self._dead():\n",
    "            return None\n",
    "        return _weak_callable(self._getobj(), self._meth)\n",
    "    \n",
    "# and this is my own version, using 3-compatible __self__/__func__\n",
    "# see\n",
    "#    https://docs.python.org/2/reference/datamodel.html\n",
    "class WeakrefWrapper(object):\n",
    "    def __init__(self, obj, func):\n",
    "        self.__self__ = weakref.ref(obj)\n",
    "        self.__func__ = func\n",
    "\n",
    "    def __call__(self):\n",
    "        if self.__self__() is None:\n",
    "            return None\n",
    "        \n",
    "        @wraps(self.__func__)\n",
    "        def wrapped_func(*args, **kws):\n",
    "            return self.__func__(self.__self__(), *args, **kws)\n",
    "        return wrapped_func\n",
    "        \n",
    "def get_weakref(func):\n",
    "    try:\n",
    "        return WeakrefWrapper(func.__self__, func.__func__)\n",
    "    except AttributeError:\n",
    "        return weakref.ref(func)"
   ]
  },
  {
   "cell_type": "code",
   "execution_count": 29,
   "metadata": {},
   "outputs": [
    {
     "name": "stdout",
     "output_type": "stream",
     "text": [
      "<weakref at 0x109b5d098; to 'function' at 0x109b4cd90 (fibber)>\n",
      "<function fibber at 0x109b4cd90>\n",
      "233\n"
     ]
    },
    {
     "data": {
      "text/plain": [
       "377"
      ]
     },
     "execution_count": 29,
     "metadata": {},
     "output_type": "execute_result"
    }
   ],
   "source": [
    "wr = weakref.ref(fibber)\n",
    "print(wr)\n",
    "print(wr())\n",
    "print(wr()())\n",
    "wr()()"
   ]
  },
  {
   "cell_type": "code",
   "execution_count": 30,
   "metadata": {},
   "outputs": [
    {
     "name": "stdout",
     "output_type": "stream",
     "text": [
      "<weakref at 0x109b5d098; to 'function' at 0x109b4cd90 (fibber)>\n",
      "<function fibber at 0x109b4cd90>\n",
      "610\n"
     ]
    },
    {
     "data": {
      "text/plain": [
       "987"
      ]
     },
     "execution_count": 30,
     "metadata": {},
     "output_type": "execute_result"
    }
   ],
   "source": [
    "fake_func = get_weakref(fibber)\n",
    "print(fake_func)\n",
    "print(fake_func())\n",
    "print(fake_func()())\n",
    "fake_func()()"
   ]
  },
  {
   "cell_type": "code",
   "execution_count": 31,
   "metadata": {},
   "outputs": [
    {
     "name": "stdout",
     "output_type": "stream",
     "text": [
      "<__main__.WeakrefWrapper object at 0x109b84630>\n",
      "<function FibHolder.get_num at 0x109b6b0d0>\n",
      "1\n",
      "<__main__.WeakrefWrapper object at 0x109b84630>\n",
      "None\n"
     ]
    },
    {
     "ename": "TypeError",
     "evalue": "'NoneType' object is not callable",
     "output_type": "error",
     "traceback": [
      "\u001b[0;31m---------------------------------------------------------------------------\u001b[0m",
      "\u001b[0;31mTypeError\u001b[0m                                 Traceback (most recent call last)",
      "\u001b[0;32m<ipython-input-31-788b48e3cc68>\u001b[0m in \u001b[0;36m<module>\u001b[0;34m\u001b[0m\n\u001b[1;32m      7\u001b[0m \u001b[0mprint\u001b[0m\u001b[0;34m(\u001b[0m\u001b[0mfake_method\u001b[0m\u001b[0;34m)\u001b[0m\u001b[0;34m\u001b[0m\u001b[0m\n\u001b[1;32m      8\u001b[0m \u001b[0mprint\u001b[0m\u001b[0;34m(\u001b[0m\u001b[0mfake_method\u001b[0m\u001b[0;34m(\u001b[0m\u001b[0;34m)\u001b[0m\u001b[0;34m)\u001b[0m\u001b[0;34m\u001b[0m\u001b[0m\n\u001b[0;32m----> 9\u001b[0;31m \u001b[0mprint\u001b[0m\u001b[0;34m(\u001b[0m\u001b[0mfake_method\u001b[0m\u001b[0;34m(\u001b[0m\u001b[0;34m)\u001b[0m\u001b[0;34m(\u001b[0m\u001b[0;34m)\u001b[0m\u001b[0;34m)\u001b[0m\u001b[0;34m\u001b[0m\u001b[0m\n\u001b[0m",
      "\u001b[0;31mTypeError\u001b[0m: 'NoneType' object is not callable"
     ]
    }
   ],
   "source": [
    "fh = FibHolder()\n",
    "fake_method = get_weakref(fh.get_num)\n",
    "print(fake_method)\n",
    "print(fake_method())\n",
    "print(fake_method()())\n",
    "del fh\n",
    "print(fake_method)\n",
    "print(fake_method())\n",
    "print(fake_method()())"
   ]
  },
  {
   "cell_type": "code",
   "execution_count": 32,
   "metadata": {},
   "outputs": [
    {
     "name": "stdout",
     "output_type": "stream",
     "text": [
      "<__main__._weak_callable object at 0x109b84be0>\n",
      "1\n",
      "2\n",
      "3\n",
      "None\n"
     ]
    },
    {
     "ename": "TypeError",
     "evalue": "'NoneType' object is not callable",
     "output_type": "error",
     "traceback": [
      "\u001b[0;31m---------------------------------------------------------------------------\u001b[0m",
      "\u001b[0;31mTypeError\u001b[0m                                 Traceback (most recent call last)",
      "\u001b[0;32m<ipython-input-32-b116e255f772>\u001b[0m in \u001b[0;36m<module>\u001b[0;34m\u001b[0m\n\u001b[1;32m      7\u001b[0m \u001b[0;32mdel\u001b[0m \u001b[0mfh\u001b[0m\u001b[0;34m\u001b[0m\u001b[0m\n\u001b[1;32m      8\u001b[0m \u001b[0mprint\u001b[0m\u001b[0;34m(\u001b[0m\u001b[0mweak_get_num\u001b[0m\u001b[0;34m(\u001b[0m\u001b[0;34m)\u001b[0m\u001b[0;34m)\u001b[0m\u001b[0;34m\u001b[0m\u001b[0m\n\u001b[0;32m----> 9\u001b[0;31m \u001b[0mprint\u001b[0m\u001b[0;34m(\u001b[0m\u001b[0mweak_get_num\u001b[0m\u001b[0;34m(\u001b[0m\u001b[0;34m)\u001b[0m\u001b[0;34m(\u001b[0m\u001b[0;34m)\u001b[0m\u001b[0;34m)\u001b[0m\u001b[0;34m\u001b[0m\u001b[0m\n\u001b[0m",
      "\u001b[0;31mTypeError\u001b[0m: 'NoneType' object is not callable"
     ]
    }
   ],
   "source": [
    "fh = FibHolder()\n",
    "weak_get_num = WeakMethod(fh.get_num)\n",
    "print(weak_get_num())\n",
    "print(weak_get_num()())\n",
    "print(weak_get_num()())\n",
    "print(weak_get_num()())\n",
    "del fh\n",
    "print(weak_get_num())\n",
    "print(weak_get_num()())"
   ]
  },
  {
   "cell_type": "code",
   "execution_count": 33,
   "metadata": {},
   "outputs": [
    {
     "ename": "NameError",
     "evalue": "name 'fh' is not defined",
     "output_type": "error",
     "traceback": [
      "\u001b[0;31m---------------------------------------------------------------------------\u001b[0m",
      "\u001b[0;31mNameError\u001b[0m                                 Traceback (most recent call last)",
      "\u001b[0;32m<ipython-input-33-6b9a6e839718>\u001b[0m in \u001b[0;36m<module>\u001b[0;34m\u001b[0m\n\u001b[0;32m----> 1\u001b[0;31m \u001b[0mfh\u001b[0m\u001b[0;34m.\u001b[0m\u001b[0mget_num\u001b[0m\u001b[0;34m(\u001b[0m\u001b[0;34m)\u001b[0m\u001b[0;34m\u001b[0m\u001b[0m\n\u001b[0m",
      "\u001b[0;31mNameError\u001b[0m: name 'fh' is not defined"
     ]
    }
   ],
   "source": [
    "fh.get_num()"
   ]
  },
  {
   "cell_type": "code",
   "execution_count": 34,
   "metadata": {},
   "outputs": [
    {
     "data": {
      "text/plain": [
       "DerivedLongGauge(descriptor.name=\"name\", points=OrderedDict())"
      ]
     },
     "execution_count": 34,
     "metadata": {},
     "output_type": "execute_result"
    }
   ],
   "source": [
    "from opencensus.metrics.export.gauge import DerivedLongGauge\n",
    "from opencensus.metrics.label_key import LabelKey\n",
    "\n",
    "\n",
    "dlg = DerivedLongGauge(\"name\", \"description\", \"unit\",\n",
    "                       [LabelKey(\"lk1\", \"first label key\"), LabelKey(\"lk2\", \"second label key\")])\n",
    "dlg"
   ]
  },
  {
   "cell_type": "code",
   "execution_count": 35,
   "metadata": {},
   "outputs": [],
   "source": [
    "fh = FibHolder()\n",
    "point = dlg.create_default_time_series(fh.get_num)"
   ]
  },
  {
   "cell_type": "code",
   "execution_count": 36,
   "metadata": {},
   "outputs": [
    {
     "data": {
      "text/plain": [
       "OrderedDict([((None, None),\n",
       "              DerivedGaugePoint(<bound method FibHolder.get_num of <__main__.FibHolder object at 0x109b84860>>))])"
      ]
     },
     "execution_count": 36,
     "metadata": {},
     "output_type": "execute_result"
    }
   ],
   "source": [
    "dlg.points"
   ]
  },
  {
   "cell_type": "code",
   "execution_count": 37,
   "metadata": {},
   "outputs": [
    {
     "data": {
      "text/plain": [
       "weakref.WeakMethod"
      ]
     },
     "execution_count": 37,
     "metadata": {},
     "output_type": "execute_result"
    }
   ],
   "source": [
    "point.func.__class__"
   ]
  },
  {
   "cell_type": "code",
   "execution_count": 38,
   "metadata": {},
   "outputs": [
    {
     "data": {
      "text/plain": [
       "<bound method FibHolder.get_num of <__main__.FibHolder object at 0x109b84860>>"
      ]
     },
     "execution_count": 38,
     "metadata": {},
     "output_type": "execute_result"
    }
   ],
   "source": [
    "point.func()"
   ]
  },
  {
   "cell_type": "code",
   "execution_count": 39,
   "metadata": {},
   "outputs": [
    {
     "data": {
      "text/plain": [
       "Metric((lk1=\"None\", lk2=\"None\", [1]), descriptor.name=\"name\")"
      ]
     },
     "execution_count": 39,
     "metadata": {},
     "output_type": "execute_result"
    }
   ],
   "source": [
    "dlg.get_metric(dt.now())"
   ]
  },
  {
   "cell_type": "code",
   "execution_count": 40,
   "metadata": {},
   "outputs": [
    {
     "data": {
      "text/plain": [
       "OrderedDict([((None, None),\n",
       "              DerivedGaugePoint(<bound method FibHolder.get_num of <__main__.FibHolder object at 0x109b84860>>))])"
      ]
     },
     "execution_count": 40,
     "metadata": {},
     "output_type": "execute_result"
    }
   ],
   "source": [
    "dlg.points"
   ]
  }
 ],
 "metadata": {
  "kernelspec": {
   "display_name": "Python 3",
   "language": "python",
   "name": "python3"
  },
  "language_info": {
   "codemirror_mode": {
    "name": "ipython",
    "version": 3
   },
   "file_extension": ".py",
   "mimetype": "text/x-python",
   "name": "python",
   "nbconvert_exporter": "python",
   "pygments_lexer": "ipython3",
   "version": "3.7.0"
  }
 },
 "nbformat": 4,
 "nbformat_minor": 2
}
